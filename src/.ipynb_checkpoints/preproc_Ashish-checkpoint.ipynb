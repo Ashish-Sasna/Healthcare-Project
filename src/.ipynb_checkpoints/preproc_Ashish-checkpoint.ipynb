{
 "cells": [
  {
   "cell_type": "markdown",
   "id": "00644ab9",
   "metadata": {},
   "source": [
    "# ⤵️Import Libraries"
   ]
  },
  {
   "cell_type": "code",
   "execution_count": 21,
   "id": "700c5e70",
   "metadata": {},
   "outputs": [],
   "source": [
    "import os\n",
    "import re\n",
    "import numpy as np\n",
    "import pandas as pd\n",
    "import datetime as dt\n",
    "\n",
    "import seaborn as sns\n",
    "import plotly.io as pio\n",
    "import plotly.express as px\n",
    "import plotly.graph_objs as go\n",
    "\n",
    "import xlrd\n",
    "import pickle as pkl\n",
    "\n",
    "import matplotlib.pyplot as plt\n",
    "%matplotlib inline\n",
    "\n",
    "import warnings\n",
    "warnings.filterwarnings('ignore')"
   ]
  },
  {
   "cell_type": "markdown",
   "id": "549155c8",
   "metadata": {},
   "source": [
    "# 📂Load Data"
   ]
  },
  {
   "cell_type": "code",
   "execution_count": 2,
   "id": "50e94fb9",
   "metadata": {},
   "outputs": [],
   "source": [
    "os.chdir('..')\n",
    "curr_dir = (os.getcwd()).replace('\\\\', '/')\n",
    "file_path = curr_dir + '/Dataset/Healthcare_dataset.xlsx'"
   ]
  },
  {
   "cell_type": "code",
   "execution_count": 3,
   "id": "fb9dca26",
   "metadata": {},
   "outputs": [],
   "source": [
    "drug_df = pd.read_excel(file_path, sheet_name='Dataset')"
   ]
  },
  {
   "cell_type": "code",
   "execution_count": 4,
   "id": "96e426e8",
   "metadata": {},
   "outputs": [
    {
     "name": "stdout",
     "output_type": "stream",
     "text": [
      "<class 'pandas.core.frame.DataFrame'>\n",
      "RangeIndex: 3424 entries, 0 to 3423\n",
      "Data columns (total 69 columns):\n",
      " #   Column                                                              Non-Null Count  Dtype \n",
      "---  ------                                                              --------------  ----- \n",
      " 0   Ptid                                                                3424 non-null   object\n",
      " 1   Persistency_Flag                                                    3424 non-null   object\n",
      " 2   Gender                                                              3424 non-null   object\n",
      " 3   Race                                                                3424 non-null   object\n",
      " 4   Ethnicity                                                           3424 non-null   object\n",
      " 5   Region                                                              3424 non-null   object\n",
      " 6   Age_Bucket                                                          3424 non-null   object\n",
      " 7   Ntm_Speciality                                                      3424 non-null   object\n",
      " 8   Ntm_Specialist_Flag                                                 3424 non-null   object\n",
      " 9   Ntm_Speciality_Bucket                                               3424 non-null   object\n",
      " 10  Gluco_Record_Prior_Ntm                                              3424 non-null   object\n",
      " 11  Gluco_Record_During_Rx                                              3424 non-null   object\n",
      " 12  Dexa_Freq_During_Rx                                                 3424 non-null   int64 \n",
      " 13  Dexa_During_Rx                                                      3424 non-null   object\n",
      " 14  Frag_Frac_Prior_Ntm                                                 3424 non-null   object\n",
      " 15  Frag_Frac_During_Rx                                                 3424 non-null   object\n",
      " 16  Risk_Segment_Prior_Ntm                                              3424 non-null   object\n",
      " 17  Tscore_Bucket_Prior_Ntm                                             3424 non-null   object\n",
      " 18  Risk_Segment_During_Rx                                              3424 non-null   object\n",
      " 19  Tscore_Bucket_During_Rx                                             3424 non-null   object\n",
      " 20  Change_T_Score                                                      3424 non-null   object\n",
      " 21  Change_Risk_Segment                                                 3424 non-null   object\n",
      " 22  Adherent_Flag                                                       3424 non-null   object\n",
      " 23  Idn_Indicator                                                       3424 non-null   object\n",
      " 24  Injectable_Experience_During_Rx                                     3424 non-null   object\n",
      " 25  Comorb_Encounter_For_Screening_For_Malignant_Neoplasms              3424 non-null   object\n",
      " 26  Comorb_Encounter_For_Immunization                                   3424 non-null   object\n",
      " 27  Comorb_Encntr_For_General_Exam_W_O_Complaint,_Susp_Or_Reprtd_Dx     3424 non-null   object\n",
      " 28  Comorb_Vitamin_D_Deficiency                                         3424 non-null   object\n",
      " 29  Comorb_Other_Joint_Disorder_Not_Elsewhere_Classified                3424 non-null   object\n",
      " 30  Comorb_Encntr_For_Oth_Sp_Exam_W_O_Complaint_Suspected_Or_Reprtd_Dx  3424 non-null   object\n",
      " 31  Comorb_Long_Term_Current_Drug_Therapy                               3424 non-null   object\n",
      " 32  Comorb_Dorsalgia                                                    3424 non-null   object\n",
      " 33  Comorb_Personal_History_Of_Other_Diseases_And_Conditions            3424 non-null   object\n",
      " 34  Comorb_Other_Disorders_Of_Bone_Density_And_Structure                3424 non-null   object\n",
      " 35  Comorb_Disorders_of_lipoprotein_metabolism_and_other_lipidemias     3424 non-null   object\n",
      " 36  Comorb_Osteoporosis_without_current_pathological_fracture           3424 non-null   object\n",
      " 37  Comorb_Personal_history_of_malignant_neoplasm                       3424 non-null   object\n",
      " 38  Comorb_Gastro_esophageal_reflux_disease                             3424 non-null   object\n",
      " 39  Concom_Cholesterol_And_Triglyceride_Regulating_Preparations         3424 non-null   object\n",
      " 40  Concom_Narcotics                                                    3424 non-null   object\n",
      " 41  Concom_Systemic_Corticosteroids_Plain                               3424 non-null   object\n",
      " 42  Concom_Anti_Depressants_And_Mood_Stabilisers                        3424 non-null   object\n",
      " 43  Concom_Fluoroquinolones                                             3424 non-null   object\n",
      " 44  Concom_Cephalosporins                                               3424 non-null   object\n",
      " 45  Concom_Macrolides_And_Similar_Types                                 3424 non-null   object\n",
      " 46  Concom_Broad_Spectrum_Penicillins                                   3424 non-null   object\n",
      " 47  Concom_Anaesthetics_General                                         3424 non-null   object\n",
      " 48  Concom_Viral_Vaccines                                               3424 non-null   object\n",
      " 49  Risk_Type_1_Insulin_Dependent_Diabetes                              3424 non-null   object\n",
      " 50  Risk_Osteogenesis_Imperfecta                                        3424 non-null   object\n",
      " 51  Risk_Rheumatoid_Arthritis                                           3424 non-null   object\n",
      " 52  Risk_Untreated_Chronic_Hyperthyroidism                              3424 non-null   object\n",
      " 53  Risk_Untreated_Chronic_Hypogonadism                                 3424 non-null   object\n",
      " 54  Risk_Untreated_Early_Menopause                                      3424 non-null   object\n",
      " 55  Risk_Patient_Parent_Fractured_Their_Hip                             3424 non-null   object\n",
      " 56  Risk_Smoking_Tobacco                                                3424 non-null   object\n",
      " 57  Risk_Chronic_Malnutrition_Or_Malabsorption                          3424 non-null   object\n",
      " 58  Risk_Chronic_Liver_Disease                                          3424 non-null   object\n",
      " 59  Risk_Family_History_Of_Osteoporosis                                 3424 non-null   object\n",
      " 60  Risk_Low_Calcium_Intake                                             3424 non-null   object\n",
      " 61  Risk_Vitamin_D_Insufficiency                                        3424 non-null   object\n",
      " 62  Risk_Poor_Health_Frailty                                            3424 non-null   object\n",
      " 63  Risk_Excessive_Thinness                                             3424 non-null   object\n",
      " 64  Risk_Hysterectomy_Oophorectomy                                      3424 non-null   object\n",
      " 65  Risk_Estrogen_Deficiency                                            3424 non-null   object\n",
      " 66  Risk_Immobilization                                                 3424 non-null   object\n",
      " 67  Risk_Recurring_Falls                                                3424 non-null   object\n",
      " 68  Count_Of_Risks                                                      3424 non-null   int64 \n",
      "dtypes: int64(2), object(67)\n",
      "memory usage: 1.8+ MB\n"
     ]
    }
   ],
   "source": [
    "drug_df.info()"
   ]
  },
  {
   "cell_type": "code",
   "execution_count": 5,
   "id": "7d87c071",
   "metadata": {},
   "outputs": [
    {
     "data": {
      "text/html": [
       "<div>\n",
       "<style scoped>\n",
       "    .dataframe tbody tr th:only-of-type {\n",
       "        vertical-align: middle;\n",
       "    }\n",
       "\n",
       "    .dataframe tbody tr th {\n",
       "        vertical-align: top;\n",
       "    }\n",
       "\n",
       "    .dataframe thead th {\n",
       "        text-align: right;\n",
       "    }\n",
       "</style>\n",
       "<table border=\"1\" class=\"dataframe\">\n",
       "  <thead>\n",
       "    <tr style=\"text-align: right;\">\n",
       "      <th></th>\n",
       "      <th>Ptid</th>\n",
       "      <th>Persistency_Flag</th>\n",
       "      <th>Gender</th>\n",
       "      <th>Race</th>\n",
       "      <th>Ethnicity</th>\n",
       "      <th>Region</th>\n",
       "      <th>Age_Bucket</th>\n",
       "      <th>Ntm_Speciality</th>\n",
       "      <th>Ntm_Specialist_Flag</th>\n",
       "      <th>Ntm_Speciality_Bucket</th>\n",
       "      <th>...</th>\n",
       "      <th>Risk_Family_History_Of_Osteoporosis</th>\n",
       "      <th>Risk_Low_Calcium_Intake</th>\n",
       "      <th>Risk_Vitamin_D_Insufficiency</th>\n",
       "      <th>Risk_Poor_Health_Frailty</th>\n",
       "      <th>Risk_Excessive_Thinness</th>\n",
       "      <th>Risk_Hysterectomy_Oophorectomy</th>\n",
       "      <th>Risk_Estrogen_Deficiency</th>\n",
       "      <th>Risk_Immobilization</th>\n",
       "      <th>Risk_Recurring_Falls</th>\n",
       "      <th>Count_Of_Risks</th>\n",
       "    </tr>\n",
       "  </thead>\n",
       "  <tbody>\n",
       "    <tr>\n",
       "      <th>0</th>\n",
       "      <td>P1</td>\n",
       "      <td>Persistent</td>\n",
       "      <td>Male</td>\n",
       "      <td>Caucasian</td>\n",
       "      <td>Not Hispanic</td>\n",
       "      <td>West</td>\n",
       "      <td>&gt;75</td>\n",
       "      <td>GENERAL PRACTITIONER</td>\n",
       "      <td>Others</td>\n",
       "      <td>OB/GYN/Others/PCP/Unknown</td>\n",
       "      <td>...</td>\n",
       "      <td>N</td>\n",
       "      <td>N</td>\n",
       "      <td>N</td>\n",
       "      <td>N</td>\n",
       "      <td>N</td>\n",
       "      <td>N</td>\n",
       "      <td>N</td>\n",
       "      <td>N</td>\n",
       "      <td>N</td>\n",
       "      <td>0</td>\n",
       "    </tr>\n",
       "    <tr>\n",
       "      <th>1</th>\n",
       "      <td>P2</td>\n",
       "      <td>Non-Persistent</td>\n",
       "      <td>Male</td>\n",
       "      <td>Asian</td>\n",
       "      <td>Not Hispanic</td>\n",
       "      <td>West</td>\n",
       "      <td>55-65</td>\n",
       "      <td>GENERAL PRACTITIONER</td>\n",
       "      <td>Others</td>\n",
       "      <td>OB/GYN/Others/PCP/Unknown</td>\n",
       "      <td>...</td>\n",
       "      <td>N</td>\n",
       "      <td>N</td>\n",
       "      <td>N</td>\n",
       "      <td>N</td>\n",
       "      <td>N</td>\n",
       "      <td>N</td>\n",
       "      <td>N</td>\n",
       "      <td>N</td>\n",
       "      <td>N</td>\n",
       "      <td>0</td>\n",
       "    </tr>\n",
       "    <tr>\n",
       "      <th>2</th>\n",
       "      <td>P3</td>\n",
       "      <td>Non-Persistent</td>\n",
       "      <td>Female</td>\n",
       "      <td>Other/Unknown</td>\n",
       "      <td>Hispanic</td>\n",
       "      <td>Midwest</td>\n",
       "      <td>65-75</td>\n",
       "      <td>GENERAL PRACTITIONER</td>\n",
       "      <td>Others</td>\n",
       "      <td>OB/GYN/Others/PCP/Unknown</td>\n",
       "      <td>...</td>\n",
       "      <td>N</td>\n",
       "      <td>Y</td>\n",
       "      <td>N</td>\n",
       "      <td>N</td>\n",
       "      <td>N</td>\n",
       "      <td>N</td>\n",
       "      <td>N</td>\n",
       "      <td>N</td>\n",
       "      <td>N</td>\n",
       "      <td>2</td>\n",
       "    </tr>\n",
       "    <tr>\n",
       "      <th>3</th>\n",
       "      <td>P4</td>\n",
       "      <td>Non-Persistent</td>\n",
       "      <td>Female</td>\n",
       "      <td>Caucasian</td>\n",
       "      <td>Not Hispanic</td>\n",
       "      <td>Midwest</td>\n",
       "      <td>&gt;75</td>\n",
       "      <td>GENERAL PRACTITIONER</td>\n",
       "      <td>Others</td>\n",
       "      <td>OB/GYN/Others/PCP/Unknown</td>\n",
       "      <td>...</td>\n",
       "      <td>N</td>\n",
       "      <td>N</td>\n",
       "      <td>N</td>\n",
       "      <td>N</td>\n",
       "      <td>N</td>\n",
       "      <td>N</td>\n",
       "      <td>N</td>\n",
       "      <td>N</td>\n",
       "      <td>N</td>\n",
       "      <td>1</td>\n",
       "    </tr>\n",
       "    <tr>\n",
       "      <th>4</th>\n",
       "      <td>P5</td>\n",
       "      <td>Non-Persistent</td>\n",
       "      <td>Female</td>\n",
       "      <td>Caucasian</td>\n",
       "      <td>Not Hispanic</td>\n",
       "      <td>Midwest</td>\n",
       "      <td>&gt;75</td>\n",
       "      <td>GENERAL PRACTITIONER</td>\n",
       "      <td>Others</td>\n",
       "      <td>OB/GYN/Others/PCP/Unknown</td>\n",
       "      <td>...</td>\n",
       "      <td>N</td>\n",
       "      <td>N</td>\n",
       "      <td>N</td>\n",
       "      <td>N</td>\n",
       "      <td>N</td>\n",
       "      <td>N</td>\n",
       "      <td>N</td>\n",
       "      <td>N</td>\n",
       "      <td>N</td>\n",
       "      <td>1</td>\n",
       "    </tr>\n",
       "  </tbody>\n",
       "</table>\n",
       "<p>5 rows × 69 columns</p>\n",
       "</div>"
      ],
      "text/plain": [
       "  Ptid Persistency_Flag  Gender           Race     Ethnicity   Region  \\\n",
       "0   P1       Persistent    Male      Caucasian  Not Hispanic     West   \n",
       "1   P2   Non-Persistent    Male          Asian  Not Hispanic     West   \n",
       "2   P3   Non-Persistent  Female  Other/Unknown      Hispanic  Midwest   \n",
       "3   P4   Non-Persistent  Female      Caucasian  Not Hispanic  Midwest   \n",
       "4   P5   Non-Persistent  Female      Caucasian  Not Hispanic  Midwest   \n",
       "\n",
       "  Age_Bucket        Ntm_Speciality Ntm_Specialist_Flag  \\\n",
       "0        >75  GENERAL PRACTITIONER              Others   \n",
       "1      55-65  GENERAL PRACTITIONER              Others   \n",
       "2      65-75  GENERAL PRACTITIONER              Others   \n",
       "3        >75  GENERAL PRACTITIONER              Others   \n",
       "4        >75  GENERAL PRACTITIONER              Others   \n",
       "\n",
       "       Ntm_Speciality_Bucket  ... Risk_Family_History_Of_Osteoporosis  \\\n",
       "0  OB/GYN/Others/PCP/Unknown  ...                                   N   \n",
       "1  OB/GYN/Others/PCP/Unknown  ...                                   N   \n",
       "2  OB/GYN/Others/PCP/Unknown  ...                                   N   \n",
       "3  OB/GYN/Others/PCP/Unknown  ...                                   N   \n",
       "4  OB/GYN/Others/PCP/Unknown  ...                                   N   \n",
       "\n",
       "  Risk_Low_Calcium_Intake  Risk_Vitamin_D_Insufficiency  \\\n",
       "0                       N                             N   \n",
       "1                       N                             N   \n",
       "2                       Y                             N   \n",
       "3                       N                             N   \n",
       "4                       N                             N   \n",
       "\n",
       "  Risk_Poor_Health_Frailty Risk_Excessive_Thinness  \\\n",
       "0                        N                       N   \n",
       "1                        N                       N   \n",
       "2                        N                       N   \n",
       "3                        N                       N   \n",
       "4                        N                       N   \n",
       "\n",
       "  Risk_Hysterectomy_Oophorectomy Risk_Estrogen_Deficiency Risk_Immobilization  \\\n",
       "0                              N                        N                   N   \n",
       "1                              N                        N                   N   \n",
       "2                              N                        N                   N   \n",
       "3                              N                        N                   N   \n",
       "4                              N                        N                   N   \n",
       "\n",
       "  Risk_Recurring_Falls Count_Of_Risks  \n",
       "0                    N              0  \n",
       "1                    N              0  \n",
       "2                    N              2  \n",
       "3                    N              1  \n",
       "4                    N              1  \n",
       "\n",
       "[5 rows x 69 columns]"
      ]
     },
     "execution_count": 5,
     "metadata": {},
     "output_type": "execute_result"
    }
   ],
   "source": [
    "drug_df.head()"
   ]
  },
  {
   "cell_type": "markdown",
   "id": "ef0bf004",
   "metadata": {},
   "source": [
    "Convert feature names into LOWERCASE."
   ]
  },
  {
   "cell_type": "code",
   "execution_count": 11,
   "id": "16e1d745",
   "metadata": {},
   "outputs": [],
   "source": [
    "drug_df.columns = list(map(lambda x:x.lower(), list(drug_df.columns)))"
   ]
  },
  {
   "cell_type": "markdown",
   "id": "c1e1c318",
   "metadata": {},
   "source": [
    "# 🔍Explore Data"
   ]
  },
  {
   "cell_type": "code",
   "execution_count": 12,
   "id": "53c488ca",
   "metadata": {},
   "outputs": [],
   "source": [
    "cols = ((drug_df != 'N') & (drug_df != 'Y')).any() "
   ]
  },
  {
   "cell_type": "code",
   "execution_count": 13,
   "id": "8039a997",
   "metadata": {},
   "outputs": [
    {
     "data": {
      "text/plain": [
       "ptid                               True\n",
       "persistency_flag                   True\n",
       "gender                             True\n",
       "race                               True\n",
       "ethnicity                          True\n",
       "                                  ...  \n",
       "risk_hysterectomy_oophorectomy    False\n",
       "risk_estrogen_deficiency          False\n",
       "risk_immobilization               False\n",
       "risk_recurring_falls              False\n",
       "count_of_risks                     True\n",
       "Length: 69, dtype: bool"
      ]
     },
     "execution_count": 13,
     "metadata": {},
     "output_type": "execute_result"
    }
   ],
   "source": [
    "cols"
   ]
  },
  {
   "cell_type": "code",
   "execution_count": 14,
   "id": "778d2de7",
   "metadata": {},
   "outputs": [
    {
     "data": {
      "text/plain": [
       "['ptid',\n",
       " 'persistency_flag',\n",
       " 'gender',\n",
       " 'race',\n",
       " 'ethnicity',\n",
       " 'region',\n",
       " 'age_bucket',\n",
       " 'ntm_speciality',\n",
       " 'ntm_specialist_flag',\n",
       " 'ntm_speciality_bucket',\n",
       " 'dexa_freq_during_rx',\n",
       " 'risk_segment_prior_ntm',\n",
       " 'tscore_bucket_prior_ntm',\n",
       " 'risk_segment_during_rx',\n",
       " 'tscore_bucket_during_rx',\n",
       " 'change_t_score',\n",
       " 'change_risk_segment',\n",
       " 'adherent_flag',\n",
       " 'count_of_risks']"
      ]
     },
     "execution_count": 14,
     "metadata": {},
     "output_type": "execute_result"
    }
   ],
   "source": [
    "features = cols[cols].index.tolist()\n",
    "features"
   ]
  },
  {
   "cell_type": "code",
   "execution_count": 15,
   "id": "45dd712f",
   "metadata": {},
   "outputs": [
    {
     "name": "stdout",
     "output_type": "stream",
     "text": [
      "persistency_flag\n",
      "Non-Persistent    2135\n",
      "Persistent        1289\n",
      "Name: count, dtype: int64\n",
      "\n",
      "\n",
      "race\n",
      "Caucasian           3148\n",
      "Other/Unknown         97\n",
      "African American      95\n",
      "Asian                 84\n",
      "Name: count, dtype: int64\n",
      "\n",
      "\n",
      "ethnicity\n",
      "Not Hispanic    3235\n",
      "Hispanic          98\n",
      "Unknown           91\n",
      "Name: count, dtype: int64\n",
      "\n",
      "\n",
      "region\n",
      "Midwest          1383\n",
      "South            1247\n",
      "West              502\n",
      "Northeast         232\n",
      "Other/Unknown      60\n",
      "Name: count, dtype: int64\n",
      "\n",
      "\n",
      "age_bucket\n",
      ">75      1439\n",
      "65-75    1086\n",
      "55-65     733\n",
      "<55       166\n",
      "Name: count, dtype: int64\n",
      "\n",
      "\n",
      "ntm_speciality\n",
      "GENERAL PRACTITIONER                                              1535\n",
      "RHEUMATOLOGY                                                       604\n",
      "ENDOCRINOLOGY                                                      458\n",
      "Unknown                                                            310\n",
      "ONCOLOGY                                                           225\n",
      "OBSTETRICS AND GYNECOLOGY                                           90\n",
      "UROLOGY                                                             33\n",
      "ORTHOPEDIC SURGERY                                                  30\n",
      "CARDIOLOGY                                                          22\n",
      "PATHOLOGY                                                           16\n",
      "HEMATOLOGY & ONCOLOGY                                               14\n",
      "OTOLARYNGOLOGY                                                      14\n",
      "PEDIATRICS                                                          13\n",
      "PHYSICAL MEDICINE AND REHABILITATION                                11\n",
      "PULMONARY MEDICINE                                                   8\n",
      "SURGERY AND SURGICAL SPECIALTIES                                     8\n",
      "PSYCHIATRY AND NEUROLOGY                                             4\n",
      "NEPHROLOGY                                                           3\n",
      "ORTHOPEDICS                                                          3\n",
      "PLASTIC SURGERY                                                      2\n",
      "VASCULAR SURGERY                                                     2\n",
      "HOSPICE AND PALLIATIVE MEDICINE                                      2\n",
      "GERIATRIC MEDICINE                                                   2\n",
      "GASTROENTEROLOGY                                                     2\n",
      "TRANSPLANT SURGERY                                                   2\n",
      "CLINICAL NURSE SPECIALIST                                            1\n",
      "OCCUPATIONAL MEDICINE                                                1\n",
      "HOSPITAL MEDICINE                                                    1\n",
      "OPHTHALMOLOGY                                                        1\n",
      "PODIATRY                                                             1\n",
      "EMERGENCY MEDICINE                                                   1\n",
      "RADIOLOGY                                                            1\n",
      "OBSTETRICS & OBSTETRICS & GYNECOLOGY & OBSTETRICS & GYNECOLOGY       1\n",
      "NEUROLOGY                                                            1\n",
      "PAIN MEDICINE                                                        1\n",
      "NUCLEAR MEDICINE                                                     1\n",
      "Name: count, dtype: int64\n",
      "\n",
      "\n",
      "ntm_specialist_flag\n",
      "Others        2013\n",
      "Specialist    1411\n",
      "Name: count, dtype: int64\n",
      "\n",
      "\n",
      "ntm_speciality_bucket\n",
      "OB/GYN/Others/PCP/Unknown    2104\n",
      "Endo/Onc/Uro                  716\n",
      "Rheum                         604\n",
      "Name: count, dtype: int64\n",
      "\n",
      "\n",
      "risk_segment_prior_ntm\n",
      "VLR_LR    1931\n",
      "HR_VHR    1493\n",
      "Name: count, dtype: int64\n",
      "\n",
      "\n",
      "tscore_bucket_prior_ntm\n",
      ">-2.5     1951\n",
      "<=-2.5    1473\n",
      "Name: count, dtype: int64\n",
      "\n",
      "\n",
      "risk_segment_during_rx\n",
      "Unknown    1497\n",
      "HR_VHR      965\n",
      "VLR_LR      962\n",
      "Name: count, dtype: int64\n",
      "\n",
      "\n",
      "tscore_bucket_during_rx\n",
      "Unknown    1497\n",
      "<=-2.5     1017\n",
      ">-2.5       910\n",
      "Name: count, dtype: int64\n",
      "\n",
      "\n",
      "change_t_score\n",
      "No change    1660\n",
      "Unknown      1497\n",
      "Worsened      173\n",
      "Improved       94\n",
      "Name: count, dtype: int64\n",
      "\n",
      "\n",
      "change_risk_segment\n",
      "Unknown      2229\n",
      "No change    1052\n",
      "Worsened      121\n",
      "Improved       22\n",
      "Name: count, dtype: int64\n",
      "\n",
      "\n",
      "adherent_flag\n",
      "Adherent        3251\n",
      "Non-Adherent     173\n",
      "Name: count, dtype: int64\n",
      "\n",
      "\n"
     ]
    }
   ],
   "source": [
    "cols_ign = ['ptid', 'gender', 'dexa_freq_during_rx', 'count_of_risks']\n",
    "\n",
    "for cols in features:\n",
    "    if cols not in cols_ign:\n",
    "        print(drug_df[cols].value_counts())\n",
    "        print('\\n')"
   ]
  },
  {
   "cell_type": "markdown",
   "id": "2cebb477",
   "metadata": {},
   "source": [
    "## Checking for null values "
   ]
  },
  {
   "cell_type": "code",
   "execution_count": 16,
   "id": "93ba9fe9",
   "metadata": {},
   "outputs": [
    {
     "data": {
      "text/plain": [
       "ptid                              0\n",
       "persistency_flag                  0\n",
       "gender                            0\n",
       "race                              0\n",
       "ethnicity                         0\n",
       "                                 ..\n",
       "risk_hysterectomy_oophorectomy    0\n",
       "risk_estrogen_deficiency          0\n",
       "risk_immobilization               0\n",
       "risk_recurring_falls              0\n",
       "count_of_risks                    0\n",
       "Length: 69, dtype: int64"
      ]
     },
     "execution_count": 16,
     "metadata": {},
     "output_type": "execute_result"
    }
   ],
   "source": [
    "drug_df.isna().sum()"
   ]
  },
  {
   "cell_type": "markdown",
   "id": "3752de0d",
   "metadata": {},
   "source": [
    "There are no missing or null values in the dataset."
   ]
  },
  {
   "cell_type": "markdown",
   "id": "2f7f9eb0",
   "metadata": {},
   "source": [
    "## Handling Outliers "
   ]
  },
  {
   "cell_type": "markdown",
   "id": "4b7aafb5",
   "metadata": {},
   "source": [
    "### Demographics "
   ]
  },
  {
   "cell_type": "markdown",
   "id": "0588469d",
   "metadata": {},
   "source": [
    "> - Age\n",
    "> - Gender\n",
    "> - Race\n",
    "> - Ethinicity\n",
    "> - Region\n",
    "> - IDN indicator"
   ]
  },
  {
   "cell_type": "code",
   "execution_count": 25,
   "id": "e6f2b95a",
   "metadata": {},
   "outputs": [
    {
     "data": {
      "image/png": "[encoded data removed]",
      "text/plain": [
       "<Figure size 576x432 with 1 Axes>"
      ]
     },
     "metadata": {},
     "output_type": "display_data"
    }
   ],
   "source": [
    "sns.set(rc = {'figure.figsize':(8,6)})\n",
    "ax = sns.countplot(x='age_bucket', \n",
    "                   data=drug_df, \n",
    "                   hue='persistency_flag')\n",
    "ax.set_title('Persistency distribution by Age', \n",
    "             fontsize=18)\n",
    "for label in ax.containers:\n",
    "    ax.bar_label(label)"
   ]
  },
  {
   "cell_type": "markdown",
   "id": "bff26919",
   "metadata": {},
   "source": [
    "Majority of the patients recorded in the dataset are above *55 years* of age."
   ]
  },
  {
   "cell_type": "code",
   "execution_count": 26,
   "id": "ac455693",
   "metadata": {},
   "outputs": [
    {
     "data": {
      "image/png": "[encoded data removed]",
      "text/plain": [
       "<Figure size 576x432 with 1 Axes>"
      ]
     },
     "metadata": {},
     "output_type": "display_data"
    }
   ],
   "source": [
    "sns.set(rc = {'figure.figsize':(8,6)})\n",
    "ax = sns.countplot(x='gender', \n",
    "                   data=drug_df, \n",
    "                   hue='persistency_flag')\n",
    "ax.set_title('Persistency distribution by Gender', \n",
    "             fontsize=18)\n",
    "for label in ax.containers:\n",
    "    ax.bar_label(label)"
   ]
  },
  {
   "cell_type": "markdown",
   "id": "7f1e08db",
   "metadata": {},
   "source": [
    "The **Male** records in the dataset are very low as compared to **Females**. Hence, we can drop this column as it doesn't contribute to model training and would rather add bias in the model."
   ]
  },
  {
   "cell_type": "code",
   "execution_count": 24,
   "id": "8223037b",
   "metadata": {},
   "outputs": [
    {
     "data": {
      "image/png": "[encoded data removed]",
      "text/plain": [
       "<Figure size 576x432 with 1 Axes>"
      ]
     },
     "metadata": {},
     "output_type": "display_data"
    }
   ],
   "source": [
    "sns.set(rc = {'figure.figsize':(8,6)})\n",
    "ax = sns.countplot(x='race', \n",
    "                   data=drug_df, \n",
    "                   hue='persistency_flag')\n",
    "ax.set_title('Persistency distribution by Race', \n",
    "             fontsize=18)\n",
    "for label in ax.containers:\n",
    "    ax.bar_label(label)"
   ]
  },
  {
   "cell_type": "markdown",
   "id": "b4cbe47f",
   "metadata": {},
   "source": [
    "Majority of the population recorded are *Caucasian*. Hence, we can drop the feature **Race** as a non-contributing factor for model training."
   ]
  },
  {
   "cell_type": "code",
   "execution_count": null,
   "id": "0844e718",
   "metadata": {},
   "outputs": [],
   "source": []
  }
 ],
 "metadata": {
  "kernelspec": {
   "display_name": "Python 3 (ipykernel)",
   "language": "python",
   "name": "python3"
  },
  "language_info": {
   "codemirror_mode": {
    "name": "ipython",
    "version": 3
   },
   "file_extension": ".py",
   "mimetype": "text/x-python",
   "name": "python",
   "nbconvert_exporter": "python",
   "pygments_lexer": "ipython3",
   "version": "3.9.12"
  }
 },
 "nbformat": 4,
 "nbformat_minor": 5
}
